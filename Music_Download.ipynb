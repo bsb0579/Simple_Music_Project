{
  "nbformat": 4,
  "nbformat_minor": 0,
  "metadata": {
    "colab": {
      "provenance": []
    },
    "kernelspec": {
      "name": "python3",
      "display_name": "Python 3"
    },
    "language_info": {
      "name": "python"
    }
  },
  "cells": [
    {
      "cell_type": "code",
      "execution_count": 1,
      "metadata": {
        "colab": {
          "base_uri": "https://localhost:8080/"
        },
        "id": "8-KKsfIJ56DR",
        "outputId": "76a38272-4594-4fa0-99ab-1caa8da2d13a"
      },
      "outputs": [
        {
          "output_type": "stream",
          "name": "stdout",
          "text": [
            "Looking in indexes: https://pypi.org/simple, https://us-python.pkg.dev/colab-wheels/public/simple/\n",
            "Collecting youtube-dl==2020.12.2\n",
            "  Downloading youtube_dl-2020.12.2-py2.py3-none-any.whl (1.8 MB)\n",
            "\u001b[2K     \u001b[90m━━━━━━━━━━━━━━━━━━━━━━━━━━━━━━━━━━━━━━━━\u001b[0m \u001b[32m1.8/1.8 MB\u001b[0m \u001b[31m17.6 MB/s\u001b[0m eta \u001b[36m0:00:00\u001b[0m\n",
            "\u001b[?25hInstalling collected packages: youtube-dl\n",
            "Successfully installed youtube-dl-2020.12.2\n",
            "Looking in indexes: https://pypi.org/simple, https://us-python.pkg.dev/colab-wheels/public/simple/\n",
            "Collecting pafy\n",
            "  Downloading pafy-0.5.5-py2.py3-none-any.whl (35 kB)\n",
            "Installing collected packages: pafy\n",
            "Successfully installed pafy-0.5.5\n"
          ]
        }
      ],
      "source": [
        "!pip install youtube-dl==2020.12.2\n",
        "!pip install pafy"
      ]
    },
    {
      "cell_type": "code",
      "source": [
        "import pafy, youtube_dl\n",
        "import os"
      ],
      "metadata": {
        "id": "FM4Xkpwr8Ont"
      },
      "execution_count": 2,
      "outputs": []
    },
    {
      "cell_type": "code",
      "source": [
        "url = 'https://www.youtube.com/watch?v=e2hfX_Yr6Wg'"
      ],
      "metadata": {
        "id": "nXqiaSJ-8WNV"
      },
      "execution_count": 3,
      "outputs": []
    },
    {
      "cell_type": "code",
      "source": [
        "video = pafy.new(url)\n",
        "print(f\"Title: {video.title}\")\n",
        "print(f\"Rating: {video.rating}\")\n",
        "print(f\"Viewcount: {video.viewcount}\")\n",
        "print(f\"Author: {video.author}\")\n",
        "print(f\"Likes: {video.likes}\\nDislikes: {video.dislikes}\")\n",
        "print(f\"VideoID: {video.videoid}\")\n",
        "print(f\"Play_Length(Sec): {video.length}\")\n",
        "print(f\"Play_Duration: {video.duration}\")"
      ],
      "metadata": {
        "colab": {
          "base_uri": "https://localhost:8080/"
        },
        "id": "J4Z8t3ME8YGQ",
        "outputId": "1f428f70-1311-4da2-e07b-1c51ff3f4b18"
      },
      "execution_count": 6,
      "outputs": [
        {
          "output_type": "stream",
          "name": "stdout",
          "text": [
            "Title: Summer - 히사이시 조(Hisaishi Joe) | 피아노 커버\n",
            "Rating: None\n",
            "Viewcount: 6634551\n",
            "Author: PianiCast - 피아니캐스트\n",
            "Likes: 56391\n",
            "Dislikes: None\n",
            "VideoID: e2hfX_Yr6Wg\n",
            "Play_Length(Sec): 148\n",
            "Play_Duration: 00:02:28\n"
          ]
        }
      ]
    },
    {
      "cell_type": "code",
      "source": [
        "best = video.getbestaudio(preftype='m4a')\n",
        "BASE_DIR = os.getcwd() + \"\\\\\" + f\"{video.title}.m4a\"\n",
        "print(BASE_DIR)"
      ],
      "metadata": {
        "colab": {
          "base_uri": "https://localhost:8080/"
        },
        "id": "CkmLYQhg-IFg",
        "outputId": "4ca411ce-db2a-4b5e-9721-28bcf07b372c"
      },
      "execution_count": 7,
      "outputs": [
        {
          "output_type": "stream",
          "name": "stdout",
          "text": [
            "/content\\Summer - 히사이시 조(Hisaishi Joe) | 피아노 커버.m4a\n"
          ]
        }
      ]
    },
    {
      "cell_type": "code",
      "source": [
        "best.download(filepath=BASE_DIR)"
      ],
      "metadata": {
        "colab": {
          "base_uri": "https://localhost:8080/"
        },
        "id": "yJhVrVtY-Pre",
        "outputId": "fe3eaa80-a2c7-4e79-ee60-2cc4f6efbcff"
      },
      "execution_count": 9,
      "outputs": [
        {
          "output_type": "stream",
          "name": "stdout",
          "text": [
            "\n"
          ]
        }
      ]
    }
  ]
}